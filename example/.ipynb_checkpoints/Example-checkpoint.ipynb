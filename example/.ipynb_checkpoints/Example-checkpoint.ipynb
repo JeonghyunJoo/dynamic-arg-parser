{
 "cells": [
  {
   "cell_type": "markdown",
   "metadata": {},
   "source": [
    "# Import"
   ]
  },
  {
   "cell_type": "code",
   "execution_count": 1,
   "metadata": {},
   "outputs": [
    {
     "ename": "ModuleNotFoundError",
     "evalue": "No module named 'argumentparser'",
     "output_type": "error",
     "traceback": [
      "\u001b[0;31m---------------------------------------------------------------------------\u001b[0m",
      "\u001b[0;31mModuleNotFoundError\u001b[0m                       Traceback (most recent call last)",
      "\u001b[0;32m<ipython-input-1-874907fe347c>\u001b[0m in \u001b[0;36m<module>\u001b[0;34m\u001b[0m\n\u001b[0;32m----> 1\u001b[0;31m \u001b[0;32mfrom\u001b[0m \u001b[0margumentparser\u001b[0m \u001b[0;32mimport\u001b[0m \u001b[0mDynamicArgumentParser\u001b[0m\u001b[0;34m\u001b[0m\u001b[0;34m\u001b[0m\u001b[0m\n\u001b[0m",
      "\u001b[0;31mModuleNotFoundError\u001b[0m: No module named 'argumentparser'"
     ]
    }
   ],
   "source": [
    "from argumentparser import DynamicArgumentParser"
   ]
  },
  {
   "cell_type": "markdown",
   "metadata": {},
   "source": [
    "# Standard argparse can be applied directly"
   ]
  },
  {
   "cell_type": "code",
   "execution_count": null,
   "metadata": {},
   "outputs": [],
   "source": [
    "cmd_args = \"--model resnet18 --optimizer adam --lr 0.1\"\n",
    "\n",
    "import argparse\n",
    "\n",
    "parser = argparse.ArgumentParser()\n",
    "parser.add_argument(\"--model\", type=str, required=True)\n",
    "parser.add_argument(\"--optimizer\", type=str, default=\"sgd\")\n",
    "parser.add_argument(\"--lr\", type=float, default=0.01)\n",
    "parser.add_argument(\"--batchsize\", type=int, default=128)\n",
    "\n",
    "dynamicparser = DynamicArgumentParser(staticparser = parser)\n",
    "dargs = dynamicparser.parse_argument(args = cmd_args.split())\n",
    "\n",
    "print(\"\\nParsing result with the dynamic parser\")\n",
    "print(\"dargs.model:\", dargs.model)\n",
    "print(\"dargs.optimizer:\", dargs.optimizer)\n",
    "print(\"dargs.lr:\", dargs.lr)\n",
    "print(\"dargs.batchsize:\", dargs.batchsize)"
   ]
  },
  {
   "cell_type": "markdown",
   "metadata": {},
   "source": [
    "# Handling arguments unrecognized by argparse "
   ]
  },
  {
   "cell_type": "code",
   "execution_count": null,
   "metadata": {},
   "outputs": [],
   "source": [
    "cmd_args = \"--model resnet18 --optimizer adam --lr 0.1 --unrecognized hello\"\n",
    "\n",
    "parser = argparse.ArgumentParser()\n",
    "parser.add_argument(\"--model\", type=str, required=True)\n",
    "parser.add_argument(\"--optimizer\", type=str, default=\"sgd\")\n",
    "parser.add_argument(\"--lr\", type=float, default=0.01)\n",
    "parser.add_argument(\"--batchsize\", type=int, default=128)\n",
    "\n",
    "dynamicparser = DynamicArgumentParser(staticparser = parser)\n",
    "args = dynamicparser.parse_argument(args = cmd_args.split())\n",
    "print(\"args.model:\", args.model)\n",
    "print(\"args.optimizer:\", args.optimizer)\n",
    "print(\"args.lr:\", args.lr)\n",
    "print(\"args.batchsize:\", args.batchsize)\n",
    "print(\"args.unrecognized:\", args.unrecognized)"
   ]
  },
  {
   "cell_type": "markdown",
   "metadata": {},
   "source": [
    "# various argument types are supported"
   ]
  },
  {
   "cell_type": "code",
   "execution_count": null,
   "metadata": {},
   "outputs": [],
   "source": [
    "cmd_args = \"--arg1 abc --arg2 100 --arg3 5e-3 --arg4 5 10 -arg5 --arg6 False\"\n",
    "\n",
    "dynamicparser = DynamicArgumentParser()\n",
    "args = dynamicparser.parse_argument(args = cmd_args.split())\n",
    "print(\"args.arg1:\", args.arg1, type(args.arg1))\n",
    "print(\"args.arg2:\", args.arg2, type(args.arg2))\n",
    "print(\"args.arg3:\", args.arg3, type(args.arg3))\n",
    "print(\"args.arg4:\", args.arg4, type(args.arg4))\n",
    "print(\"args.arg5:\", args.arg5, type(args.arg5))\n",
    "print(\"args.arg6:\", args.arg6, type(args.arg6))"
   ]
  },
  {
   "cell_type": "markdown",
   "metadata": {},
   "source": [
    "# Hierarchical argument"
   ]
  },
  {
   "cell_type": "code",
   "execution_count": null,
   "metadata": {},
   "outputs": [],
   "source": [
    "cmd_args = \"--log.save_path a/b/e --log.level info --checkpoint.save_path a/b/d --checkpoint.save_frequency 50\"\n",
    "\n",
    "dynamicparser = DynamicArgumentParser()\n",
    "args = dynamicparser.parse_argument(args = cmd_args.split())\n",
    "print(\"args.log.save_path:\", args.log.save_path)\n",
    "print(\"args.log.level:\", args.log.level)\n",
    "print(\"args.checkpoint.save_path:\", args.checkpoint.save_path)\n",
    "print(\"args.checkpoint.save_frequency:\", args.checkpoint.save_frequency)"
   ]
  },
  {
   "cell_type": "markdown",
   "metadata": {},
   "source": [
    "# Loading arguments from a configuration file"
   ]
  },
  {
   "cell_type": "code",
   "execution_count": null,
   "metadata": {
    "scrolled": true
   },
   "outputs": [],
   "source": [
    "cmd_args = \"--conf example.yaml\"\n",
    "\n",
    "dynamicparser = DynamicArgumentParser()\n",
    "args = dynamicparser.parse_argument(args = cmd_args.split(), cfgfile_arg = 'conf')\n",
    "\n",
    "print(\"args.model:\", args.model)\n",
    "print(\"args.dataset:\", args.dataset)\n",
    "print(\"args.optimizer.name:\", args.optimizer.name)\n",
    "print(\"args.optimizer.lr:\", args.optimizer.lr)\n",
    "print(\"args.optimizer.betas:\", args.optimizer.betas)"
   ]
  },
  {
   "cell_type": "markdown",
   "metadata": {},
   "source": [
    "# Save configuration as a yaml-formatted file"
   ]
  },
  {
   "cell_type": "code",
   "execution_count": null,
   "metadata": {},
   "outputs": [],
   "source": [
    "cmd_args = \"--conf example.yaml\"\n",
    "\n",
    "dynamicparser = DynamicArgumentParser()\n",
    "args = dynamicparser.parse_argument(args = cmd_args.split(), cfgfile_arg = 'conf')\n",
    "\n",
    "config_save_path = \"save_config.yaml\"\n",
    "args.toyaml(config_save_path)\n",
    "\n",
    "#if path is not given, then 'toyaml()' just returns the yaml string\n",
    "print( args.toyaml() )"
   ]
  },
  {
   "cell_type": "markdown",
   "metadata": {},
   "source": [
    "# Conveying arguments through both sources "
   ]
  },
  {
   "cell_type": "code",
   "execution_count": null,
   "metadata": {},
   "outputs": [],
   "source": [
    "#command line arguments have a precedence over arguments from the file\n",
    "cmd_args = \"--conf example.yaml --optimizer.name sgd --optimizer.lr 0.1\"\n",
    "\n",
    "dynamicparser = DynamicArgumentParser()\n",
    "args = dynamicparser.parse_argument(args = cmd_args.split(), cfgfile_arg = 'conf')\n",
    "\n",
    "print(args.todict())"
   ]
  },
  {
   "cell_type": "markdown",
   "metadata": {},
   "source": [
    "# Triming unreferenced arguments"
   ]
  },
  {
   "cell_type": "code",
   "execution_count": null,
   "metadata": {},
   "outputs": [],
   "source": [
    "cmd_args = \"--conf example.yaml --optimizer.name sgd --optimizer.lr 0.1\"\n",
    "\n",
    "dynamicparser = DynamicArgumentParser()\n",
    "args = dynamicparser.parse_argument(args = cmd_args.split(), cfgfile_arg = 'conf')\n",
    "\n",
    "print(\"Before trim\\n\", args.todict())\n",
    "\n",
    "print(\"\\n... Create dataset instance:\", args.dataset)\n",
    "print(\"... Create model instance:\", args.model)\n",
    "print(\"... Create optimizer instance:\", args.optimizer.name, args.optimizer.lr)\n",
    "print(\"optimizer.betas is never used\")\n",
    "\n",
    "args.trim()\n",
    "print(\"\\nAfter trim\\n\", args.todict())"
   ]
  },
  {
   "cell_type": "markdown",
   "metadata": {},
   "source": [
    "# Checking whether an argument is given or not\n",
    "# Adding new arguments dynamically"
   ]
  },
  {
   "cell_type": "code",
   "execution_count": null,
   "metadata": {},
   "outputs": [],
   "source": [
    "cmd_args = \"--a 1\"\n",
    "\n",
    "dynamicparser = DynamicArgumentParser()\n",
    "args = dynamicparser.parse_argument(args = cmd_args.split())\n",
    "\n",
    "print(\"Arguments:\", dict(args))\n",
    "\n",
    "#Warning: Argument must be compared with None by equality operators (==, !=) not by identity operators (is, is not)\n",
    "if args.a != None:\n",
    "    print(\"argument a: \", args.a)\n",
    "else:\n",
    "    print(\"argument a is not given\")\n",
    "\n",
    "if args.c != None:\n",
    "    print(\"argument c: \", args.c)\n",
    "else:\n",
    "    print(\"argument c is not given\")\n",
    "\n",
    "#Though it prints its value as 'None', as said, it is not truly None. Therefore 'args.this.does_not.cause.any.error is None' would result in False\n",
    "print(\"argument even.this.does_not.cause.attribute.error: \",  args.even.this.does_not.cause.attribute.error)\n",
    "print(\"argument even.this.does_not.cause.attribute.error is None: \",  args.even.this.does_not.cause.attribute.error is None)\n",
    "print(\"argument even.this.does_not.cause.attribute.error == None: \",  args.even.this.does_not.cause.attribute.error == None)\n",
    "\n",
    "args.even.this.does_not.cause.attribute.error = 'yes'\n",
    "print(\"Arguments:\", args.todict())"
   ]
  },
  {
   "cell_type": "code",
   "execution_count": null,
   "metadata": {},
   "outputs": [],
   "source": [
    "cmd_args = \"--a=1,2,3\"\n",
    "dynamicparser = DynamicArgumentParser()\n",
    "args = dynamicparser.parse_argument(args = cmd_args.split())\n",
    "print(\"Arguments:\", args.todict())"
   ]
  }
 ],
 "metadata": {
  "kernelspec": {
   "display_name": "Python 3",
   "language": "python",
   "name": "python3"
  },
  "language_info": {
   "codemirror_mode": {
    "name": "ipython",
    "version": 3
   },
   "file_extension": ".py",
   "mimetype": "text/x-python",
   "name": "python",
   "nbconvert_exporter": "python",
   "pygments_lexer": "ipython3",
   "version": "3.7.6"
  }
 },
 "nbformat": 4,
 "nbformat_minor": 4
}
