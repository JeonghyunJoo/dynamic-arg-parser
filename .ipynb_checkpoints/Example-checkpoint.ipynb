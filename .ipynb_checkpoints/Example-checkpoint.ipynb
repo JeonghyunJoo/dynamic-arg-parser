{
 "cells": [
  {
   "cell_type": "code",
   "execution_count": 1,
   "metadata": {},
   "outputs": [],
   "source": [
    "from argumentparser import DynamicArgumentParser"
   ]
  },
  {
   "cell_type": "markdown",
   "metadata": {},
   "source": [
    "# Standard argparse can be applied directly"
   ]
  },
  {
   "cell_type": "code",
   "execution_count": 16,
   "metadata": {},
   "outputs": [
    {
     "name": "stdout",
     "output_type": "stream",
     "text": [
      "Parsing result with argparse module\n",
      "args.model: resnet18\n",
      "args.optimizer: adam\n",
      "args.lr: 0.1\n",
      "args.batchsize: 128\n",
      "\n",
      "Parsing result with the dynamic parser\n",
      "dargs.model: resnet18\n",
      "dargs.optimizer: adam\n",
      "dargs.lr: 0.1\n",
      "dargs.batchsize: 128\n"
     ]
    }
   ],
   "source": [
    "cmd_args = \"--model resnet18 --optimizer adam --lr 0.1\"\n",
    "\n",
    "import argparse\n",
    "\n",
    "parser = argparse.ArgumentParser()\n",
    "parser.add_argument(\"--model\", type=str, required=True)\n",
    "parser.add_argument(\"--optimizer\", type=str, default=\"sgd\")\n",
    "parser.add_argument(\"--lr\", type=float, default=0.01)\n",
    "parser.add_argument(\"--batchsize\", type=int, default=128)\n",
    "\n",
    "args = parser.parse_args(args = cmd_args.split())\n",
    "\n",
    "print(\"Parsing result with argparse module\")\n",
    "print(\"args.model:\", args.model)\n",
    "print(\"args.optimizer:\", args.optimizer)\n",
    "print(\"args.lr:\", args.lr)\n",
    "print(\"args.batchsize:\", args.batchsize)\n",
    "\n",
    "dynamicparser = DynamicArgumentParser(staticparser = parser)\n",
    "dargs = dynamicparser.parse_argument(args = cmd_args.split())\n",
    "\n",
    "print(\"\\nParsing result with the dynamic parser\")\n",
    "print(\"dargs.model:\", dargs.model)\n",
    "print(\"dargs.optimizer:\", dargs.optimizer)\n",
    "print(\"dargs.lr:\", dargs.lr)\n",
    "print(\"dargs.batchsize:\", dargs.batchsize)"
   ]
  },
  {
   "cell_type": "markdown",
   "metadata": {},
   "source": [
    "# Handling arguments unrecognized by argparse "
   ]
  },
  {
   "cell_type": "code",
   "execution_count": 17,
   "metadata": {},
   "outputs": [
    {
     "name": "stdout",
     "output_type": "stream",
     "text": [
      "args.model: resnet18\n",
      "args.optimizer: adam\n",
      "args.lr: 0.1\n",
      "args.batchsize: 128\n",
      "args.unrecognized: hello\n"
     ]
    }
   ],
   "source": [
    "cmd_args = \"--model resnet18 --optimizer adam --lr 0.1 --unrecognized hello\"\n",
    "\n",
    "parser = argparse.ArgumentParser()\n",
    "parser.add_argument(\"--model\", type=str, required=True)\n",
    "parser.add_argument(\"--optimizer\", type=str, default=\"sgd\")\n",
    "parser.add_argument(\"--lr\", type=float, default=0.01)\n",
    "parser.add_argument(\"--batchsize\", type=int, default=128)\n",
    "\n",
    "dynamicparser = DynamicArgumentParser(staticparser = parser)\n",
    "args = dynamicparser.parse_argument(args = cmd_args.split())\n",
    "print(\"args.model:\", args.model)\n",
    "print(\"args.optimizer:\", args.optimizer)\n",
    "print(\"args.lr:\", args.lr)\n",
    "print(\"args.batchsize:\", args.batchsize)\n",
    "print(\"args.unrecognized:\", args.unrecognized)"
   ]
  },
  {
   "cell_type": "markdown",
   "metadata": {},
   "source": [
    "# various argument types are supported"
   ]
  },
  {
   "cell_type": "code",
   "execution_count": 18,
   "metadata": {},
   "outputs": [
    {
     "name": "stdout",
     "output_type": "stream",
     "text": [
      "args.arg1: abc <class 'str'>\n",
      "args.arg2: 100 <class 'int'>\n",
      "args.arg3: 0.005 <class 'float'>\n",
      "args.arg4: [5, 10] <class 'list'>\n",
      "args.arg5: True <class 'bool'>\n",
      "args.arg6: False <class 'bool'>\n"
     ]
    }
   ],
   "source": [
    "cmd_args = \"--arg1 abc --arg2 100 --arg3 5e-3 --arg4 5 10 -arg5 --arg6 False\"\n",
    "\n",
    "dynamicparser = DynamicArgumentParser()\n",
    "args = dynamicparser.parse_argument(args = cmd_args.split())\n",
    "print(\"args.arg1:\", args.arg1, type(args.arg1))\n",
    "print(\"args.arg2:\", args.arg2, type(args.arg2))\n",
    "print(\"args.arg3:\", args.arg3, type(args.arg3))\n",
    "print(\"args.arg4:\", args.arg4, type(args.arg4))\n",
    "print(\"args.arg5:\", args.arg5, type(args.arg5))\n",
    "print(\"args.arg6:\", args.arg6, type(args.arg6))"
   ]
  },
  {
   "cell_type": "markdown",
   "metadata": {},
   "source": [
    "# Hierarchical argument"
   ]
  },
  {
   "cell_type": "code",
   "execution_count": 19,
   "metadata": {},
   "outputs": [
    {
     "name": "stdout",
     "output_type": "stream",
     "text": [
      "args.log.save_path: a/b/e\n",
      "args.log.level: info\n",
      "args.checkpoint.save_path: a/b/d\n",
      "args.checkpoint.save_frequency: 50\n"
     ]
    }
   ],
   "source": [
    "cmd_args = \"--log.save_path a/b/e --log.level info --checkpoint.save_path a/b/d --checkpoint.save_frequency 50\"\n",
    "\n",
    "dynamicparser = DynamicArgumentParser()\n",
    "args = dynamicparser.parse_argument(args = cmd_args.split())\n",
    "print(\"args.log.save_path:\", args.log.save_path)\n",
    "print(\"args.log.level:\", args.log.level)\n",
    "print(\"args.checkpoint.save_path:\", args.checkpoint.save_path)\n",
    "print(\"args.checkpoint.save_frequency:\", args.checkpoint.save_frequency)"
   ]
  },
  {
   "cell_type": "markdown",
   "metadata": {},
   "source": [
    "# Loading arguments from a configuration file"
   ]
  },
  {
   "cell_type": "code",
   "execution_count": 20,
   "metadata": {
    "scrolled": true
   },
   "outputs": [
    {
     "name": "stdout",
     "output_type": "stream",
     "text": [
      "args.model: resnet18\n",
      "args.dataset: cifar10\n",
      "args.optimizer.name: adam\n",
      "args.optimizer.lr: 0.005\n",
      "args.optimizer.betas: [0.99, 0.998]\n"
     ]
    }
   ],
   "source": [
    "cmd_args = \"--conf example.yaml\"\n",
    "\n",
    "dynamicparser = DynamicArgumentParser()\n",
    "args = dynamicparser.parse_argument(args = cmd_args.split(), cfgfile_arg = 'conf')\n",
    "\n",
    "print(\"args.model:\", args.model)\n",
    "print(\"args.dataset:\", args.dataset)\n",
    "print(\"args.optimizer.name:\", args.optimizer.name)\n",
    "print(\"args.optimizer.lr:\", args.optimizer.lr)\n",
    "print(\"args.optimizer.betas:\", args.optimizer.betas)"
   ]
  },
  {
   "cell_type": "markdown",
   "metadata": {},
   "source": [
    "# Conveying arguments through both sources "
   ]
  },
  {
   "cell_type": "code",
   "execution_count": 21,
   "metadata": {},
   "outputs": [
    {
     "name": "stdout",
     "output_type": "stream",
     "text": [
      "{'conf': 'example.yaml', 'dataset': 'cifar10', 'model': 'resnet18', 'optimizer': {'betas': [0.99, 0.998], 'lr': 0.1, 'name': 'sgd'}}\n"
     ]
    }
   ],
   "source": [
    "#command line arguments have a precedence over arguments from the file\n",
    "cmd_args = \"--conf example.yaml --optimizer.name sgd --optimizer.lr 0.1\"\n",
    "\n",
    "dynamicparser = DynamicArgumentParser()\n",
    "args = dynamicparser.parse_argument(args = cmd_args.split(), cfgfile_arg = 'conf')\n",
    "\n",
    "print(args.todict())"
   ]
  },
  {
   "cell_type": "markdown",
   "metadata": {},
   "source": [
    "# Triming unreferenced arguments"
   ]
  },
  {
   "cell_type": "code",
   "execution_count": 25,
   "metadata": {},
   "outputs": [
    {
     "name": "stdout",
     "output_type": "stream",
     "text": [
      "Before triming\n",
      " {'conf': 'example.yaml', 'dataset': 'cifar10', 'model': 'resnet18', 'optimizer': {'betas': [0.99, 0.998], 'lr': 0.1, 'name': 'sgd'}}\n",
      "Create dataset instance: cifar10\n",
      "Create model instance: resnet18\n",
      "Create optimizer instance: sgd 0.1\n",
      "After triming\n",
      " {'dataset': 'cifar10', 'model': 'resnet18', 'optimizer': {'lr': 0.1, 'name': 'sgd'}}\n"
     ]
    }
   ],
   "source": [
    "cmd_args = \"--conf example.yaml --optimizer.name sgd --optimizer.lr 0.1\"\n",
    "\n",
    "dynamicparser = DynamicArgumentParser()\n",
    "args = dynamicparser.parse_argument(args = cmd_args.split(), cfgfile_arg = 'conf')\n",
    "\n",
    "print(\"Before triming\\n\", args.todict())\n",
    "\n",
    "print(\"Create dataset instance:\", args.dataset)\n",
    "print(\"Create model instance:\", args.model)\n",
    "print(\"Create optimizer instance:\", args.optimizer.name, args.optimizer.lr)\n",
    "\n",
    "args.trim()\n",
    "print(\"After triming\\n\", args.todict())"
   ]
  },
  {
   "cell_type": "markdown",
   "metadata": {},
   "source": [
    "# Checking if arguments are given or not"
   ]
  },
  {
   "cell_type": "code",
   "execution_count": 27,
   "metadata": {},
   "outputs": [
    {
     "ename": "SyntaxError",
     "evalue": "EOL while scanning string literal (<ipython-input-27-4c92c11b857c>, line 10)",
     "output_type": "error",
     "traceback": [
      "\u001b[0;36m  File \u001b[0;32m\"<ipython-input-27-4c92c11b857c>\"\u001b[0;36m, line \u001b[0;32m10\u001b[0m\n\u001b[0;31m    print(\"argument a is not given)\u001b[0m\n\u001b[0m                                   ^\u001b[0m\n\u001b[0;31mSyntaxError\u001b[0m\u001b[0;31m:\u001b[0m EOL while scanning string literal\n"
     ]
    }
   ],
   "source": [
    "cmd_args = \"--a 1 --b 2\"\n",
    "\n",
    "dynamicparser = DynamicArgumentParser()\n",
    "args = dynamicparser.parse_argument(args = cmd_args.split())\n",
    "\n",
    "#Warning: Argument must be compared with None by equality operators (==, !=) not by identity operators (is, is not)\n",
    "if args.a != None:\n",
    "    print(\"argument a: \", args.a)\n",
    "else:\n",
    "    print(\"argument a is not given)\n",
    "\n",
    "if args.c != None:\n",
    "    print(\"argument c: \", args.c)\n",
    "else:\n",
    "    print(\"argument c is not given)\n",
    "\n",
    "          \n",
    "if args.is.this.given != None:\n",
    "    print(\"argument value: \", args.is.this.given)\n",
    "else:\n",
    "    print(\"argument is not given\")"
   ]
  },
  {
   "cell_type": "code",
   "execution_count": 9,
   "metadata": {},
   "outputs": [
    {
     "name": "stdout",
     "output_type": "stream",
     "text": [
      "{'conf': ('example.yaml', 'str'), 'optimizer': ({}, 'dict'), 'optimizer.lr': (0.5, 'float'), 'model': ('resnet18', 'str'), 'dataset': ('cifar10', 'str'), 'optimizer.momentum': (0.9, 'float')}\n",
      "{'conf': 'example.yaml', 'dataset': 'cifar10', 'model': 'resnet18', 'optimizer': {'lr': 0.5, 'momentum': 0.9}}\n"
     ]
    }
   ],
   "source": [
    "#print( dynamicparser.arg_dict )\n",
    "\n",
    "#drops type info\n",
    "def arg_dict_2_pure_dict(arg_dict):\n",
    "    print(arg_dict)\n",
    "    root_dir = {}\n",
    "    for k in sorted(arg_dict.keys()):\n",
    "        v, _ = arg_dict[k] #Drop type information\n",
    "        key_chain = k.split('.')\n",
    "        \n",
    "        def get_parent_dict(keys, parent):\n",
    "            if len(keys) == 1:\n",
    "                return parent\n",
    "            else:\n",
    "                return get_parent_dict(keys[1:], parent[keys[0]])\n",
    "        \n",
    "        \n",
    "        p_dict = get_parent_dict(key_chain, root_dir)\n",
    "        p_dict[key_chain[-1]] = {} if isinstance(v, dict) else v\n",
    "    \n",
    "    return root_dir\n",
    "    \n",
    "dic = arg_dict_2_pure_dict( dynamicparser.arg_dict )\n",
    "\n",
    "print(dic)\n"
   ]
  }
 ],
 "metadata": {
  "kernelspec": {
   "display_name": "Python 3",
   "language": "python",
   "name": "python3"
  },
  "language_info": {
   "codemirror_mode": {
    "name": "ipython",
    "version": 3
   },
   "file_extension": ".py",
   "mimetype": "text/x-python",
   "name": "python",
   "nbconvert_exporter": "python",
   "pygments_lexer": "ipython3",
   "version": "3.7.6"
  }
 },
 "nbformat": 4,
 "nbformat_minor": 4
}
